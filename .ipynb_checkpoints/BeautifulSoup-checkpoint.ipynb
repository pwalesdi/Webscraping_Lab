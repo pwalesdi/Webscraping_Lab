{
 "cells": [
  {
   "cell_type": "code",
   "execution_count": 1,
   "metadata": {},
   "outputs": [],
   "source": [
    "# Import libaries\n",
    "import pandas as pd\n",
    "import requests\n",
    "from bs4 import BeautifulSoup"
   ]
  },
  {
   "cell_type": "markdown",
   "metadata": {},
   "source": [
    "### Step 1: Create a soup object from the home page"
   ]
  },
  {
   "cell_type": "code",
   "execution_count": 44,
   "metadata": {},
   "outputs": [
    {
     "data": {
      "text/plain": [
       "200"
      ]
     },
     "execution_count": 44,
     "metadata": {},
     "output_type": "execute_result"
    }
   ],
   "source": [
    "url = 'http://chubbygrub.com/'\n",
    "res = requests.get(url)\n",
    "res.status_code"
   ]
  },
  {
   "cell_type": "code",
   "execution_count": 45,
   "metadata": {},
   "outputs": [],
   "source": [
    "soup = BeautifulSoup(res.content, 'lxml')"
   ]
  },
  {
   "cell_type": "code",
   "execution_count": 46,
   "metadata": {},
   "outputs": [],
   "source": [
    "a = soup.find_all('a')"
   ]
  },
  {
   "cell_type": "code",
   "execution_count": 48,
   "metadata": {},
   "outputs": [
    {
     "data": {
      "text/plain": [
       "[<a href=\"http://chubbygrub.com\"><img alt=\"\" border=\"0\" height=\"50\" src=\"http://chubbygrub.com/wp-content/themes/chubbygrub-2/images/logo_chubbygrub.png\" width=\"210\"/></a>,\n",
       " <a href=\"http://chubbygrub.com/\">Home</a>,\n",
       " <a href=\"http://chubbygrub.com/categories/\">Categories</a>,\n",
       " <a href=\"http://chubbygrub.com/restaurants/\">Restaurants</a>,\n",
       " <a class=\"btn btn-lg btn-primary\" href=\"/restaurants/aw-restaurants\">A&amp;W Restaurants</a>,\n",
       " <a class=\"btn btn-lg btn-primary\" href=\"/restaurants/applebees\">Applebee's</a>,\n",
       " <a class=\"btn btn-lg btn-primary\" href=\"/restaurants/arbys\">Arby's</a>,\n",
       " <a class=\"btn btn-lg btn-primary\" href=\"/restaurants/atlanta-bread-company\">Atlanta Bread Company</a>,\n",
       " <a class=\"btn btn-lg btn-primary\" href=\"/restaurants/bojangles-famous-chicken-n-biscuits\">Bojangle's Famous Chicken 'n Biscuits</a>,\n",
       " <a class=\"btn btn-lg btn-primary\" href=\"/restaurants/buffalo-wild-wings\">Buffalo Wild Wings</a>,\n",
       " <a class=\"btn btn-lg btn-primary\" href=\"/restaurants/burger-king\">Burger King</a>,\n",
       " <a class=\"btn btn-lg btn-primary\" href=\"/restaurants/captain-ds\">Captain D's</a>,\n",
       " <a class=\"btn btn-lg btn-primary\" href=\"/restaurants/carls-jr\">Carl's Jr.</a>,\n",
       " <a class=\"btn btn-lg btn-primary\" href=\"/restaurants/charleys-grilled-subs\">Charley's Grilled Subs</a>,\n",
       " <a class=\"btn btn-lg btn-primary\" href=\"/restaurants/chick-fil-a\">Chick-fil-A</a>,\n",
       " <a class=\"btn btn-lg btn-primary\" href=\"/restaurants/chilis\">Chili's</a>,\n",
       " <a class=\"btn btn-lg btn-primary\" href=\"/restaurants/chipotle-mexican-grill\">Chipotle Mexican Grill</a>,\n",
       " <a class=\"btn btn-lg btn-primary\" href=\"/restaurants/churchs\">Church's</a>,\n",
       " <a class=\"btn btn-lg btn-primary\" href=\"/restaurants/corner-bakery-cafe\">Corner Bakery Cafe</a>,\n",
       " <a class=\"btn btn-lg btn-primary\" href=\"/restaurants/dairy-queen\">Dairy Queen</a>,\n",
       " <a class=\"btn btn-lg btn-primary\" href=\"/restaurants/dennys\">Denny's</a>,\n",
       " <a class=\"btn btn-lg btn-primary\" href=\"/restaurants/el-pollo-loco\">El Pollo Loco</a>,\n",
       " <a class=\"btn btn-lg btn-primary\" href=\"/restaurants/fatz\">FATZ</a>,\n",
       " <a class=\"btn btn-lg btn-primary\" href=\"/restaurants/fazolis\">Fazoli's</a>,\n",
       " <a class=\"btn btn-lg btn-primary\" href=\"/restaurants/five-guys-burgers-and-fries\">Five Guys Burgers and Fries</a>,\n",
       " <a class=\"btn btn-lg btn-primary\" href=\"/restaurants/golden-chick\">Golden Chick</a>,\n",
       " <a class=\"btn btn-lg btn-primary\" href=\"/restaurants/hardees\">Hardee's</a>,\n",
       " <a class=\"btn btn-lg btn-primary\" href=\"/restaurants/ihop\">IHOP</a>,\n",
       " <a class=\"btn btn-lg btn-primary\" href=\"/restaurants/in-n-out-burger\">In-N-Out Burger</a>,\n",
       " <a class=\"btn btn-lg btn-primary\" href=\"/restaurants/jack-in-the-box\">Jack in the Box</a>,\n",
       " <a class=\"btn btn-lg btn-primary\" href=\"/restaurants/jimmy-johns\">Jimmy Johns</a>,\n",
       " <a class=\"btn btn-lg btn-primary\" href=\"/restaurants/joes-crab-shack\">Joe's Crab Shack</a>,\n",
       " <a class=\"btn btn-lg btn-primary\" href=\"/restaurants/kfc\">KFC</a>,\n",
       " <a class=\"btn btn-lg btn-primary\" href=\"/restaurants/mcdonalds\">McDonald's</a>,\n",
       " <a class=\"btn btn-lg btn-primary\" href=\"/restaurants/ocharleys\">O'Charley's</a>,\n",
       " <a class=\"btn btn-lg btn-primary\" href=\"/restaurants/olive-garden\">Olive Garden</a>,\n",
       " <a class=\"btn btn-lg btn-primary\" href=\"/restaurants/outback-steakhouse\">Outback Steakhouse</a>,\n",
       " <a class=\"btn btn-lg btn-primary\" href=\"/restaurants/panda-express\">Panda Express</a>,\n",
       " <a class=\"btn btn-lg btn-primary\" href=\"/restaurants/panera-bread\">Panera Bread</a>,\n",
       " <a class=\"btn btn-lg btn-primary\" href=\"/restaurants/popeyes\">Popeye's</a>,\n",
       " <a class=\"btn btn-lg btn-primary\" href=\"/restaurants/quiznos\">Quiznos</a>,\n",
       " <a class=\"btn btn-lg btn-primary\" href=\"/restaurants/red-robin-gourmet-burgers\">Red Robin Gourmet Burgers</a>,\n",
       " <a class=\"btn btn-lg btn-primary\" href=\"/restaurants/romanos-macaroni-grill\">Romano's Macaroni Grill</a>,\n",
       " <a class=\"btn btn-lg btn-primary\" href=\"/restaurants/ruby-tuesday\">Ruby Tuesday</a>,\n",
       " <a class=\"btn btn-lg btn-primary\" href=\"/restaurants/subway\">Subway</a>,\n",
       " <a class=\"btn btn-lg btn-primary\" href=\"/restaurants/taco-bell\">Taco Bell</a>,\n",
       " <a class=\"btn btn-lg btn-primary\" href=\"/restaurants/taco-bueno\">Taco Bueno</a>,\n",
       " <a class=\"btn btn-lg btn-primary\" href=\"/restaurants/wendys\">Wendy's</a>,\n",
       " <a href=\"http://trailerparkmedia.com\" target=\"_blank\">Trailer Park Media, LLC</a>,\n",
       " <a href=\"http://chubbygrub.com/\">Home</a>,\n",
       " <a href=\"http://chubbygrub.com/categories/\">Categories</a>,\n",
       " <a href=\"http://chubbygrub.com/restaurants/\">Restaurants</a>]"
      ]
     },
     "execution_count": 48,
     "metadata": {},
     "output_type": "execute_result"
    }
   ],
   "source": [
    "a"
   ]
  },
  {
   "cell_type": "code",
   "execution_count": 6,
   "metadata": {},
   "outputs": [
    {
     "data": {
      "text/plain": [
       "{'href': 'http://chubbygrub.com'}"
      ]
     },
     "execution_count": 6,
     "metadata": {},
     "output_type": "execute_result"
    }
   ],
   "source": [
    "a.attrs"
   ]
  },
  {
   "cell_type": "code",
   "execution_count": 39,
   "metadata": {},
   "outputs": [
    {
     "data": {
      "text/plain": [
       "[<a class=\"btn btn-lg btn-primary\" href=\"/restaurants/aw-restaurants\">A&amp;W Restaurants</a>,\n",
       " <a class=\"btn btn-lg btn-primary\" href=\"/restaurants/applebees\">Applebee's</a>,\n",
       " <a class=\"btn btn-lg btn-primary\" href=\"/restaurants/arbys\">Arby's</a>,\n",
       " <a class=\"btn btn-lg btn-primary\" href=\"/restaurants/atlanta-bread-company\">Atlanta Bread Company</a>,\n",
       " <a class=\"btn btn-lg btn-primary\" href=\"/restaurants/bojangles-famous-chicken-n-biscuits\">Bojangle's Famous Chicken 'n Biscuits</a>,\n",
       " <a class=\"btn btn-lg btn-primary\" href=\"/restaurants/buffalo-wild-wings\">Buffalo Wild Wings</a>,\n",
       " <a class=\"btn btn-lg btn-primary\" href=\"/restaurants/burger-king\">Burger King</a>,\n",
       " <a class=\"btn btn-lg btn-primary\" href=\"/restaurants/captain-ds\">Captain D's</a>,\n",
       " <a class=\"btn btn-lg btn-primary\" href=\"/restaurants/carls-jr\">Carl's Jr.</a>,\n",
       " <a class=\"btn btn-lg btn-primary\" href=\"/restaurants/charleys-grilled-subs\">Charley's Grilled Subs</a>,\n",
       " <a class=\"btn btn-lg btn-primary\" href=\"/restaurants/chick-fil-a\">Chick-fil-A</a>,\n",
       " <a class=\"btn btn-lg btn-primary\" href=\"/restaurants/chilis\">Chili's</a>,\n",
       " <a class=\"btn btn-lg btn-primary\" href=\"/restaurants/chipotle-mexican-grill\">Chipotle Mexican Grill</a>,\n",
       " <a class=\"btn btn-lg btn-primary\" href=\"/restaurants/churchs\">Church's</a>,\n",
       " <a class=\"btn btn-lg btn-primary\" href=\"/restaurants/corner-bakery-cafe\">Corner Bakery Cafe</a>,\n",
       " <a class=\"btn btn-lg btn-primary\" href=\"/restaurants/dairy-queen\">Dairy Queen</a>,\n",
       " <a class=\"btn btn-lg btn-primary\" href=\"/restaurants/dennys\">Denny's</a>,\n",
       " <a class=\"btn btn-lg btn-primary\" href=\"/restaurants/el-pollo-loco\">El Pollo Loco</a>,\n",
       " <a class=\"btn btn-lg btn-primary\" href=\"/restaurants/fatz\">FATZ</a>,\n",
       " <a class=\"btn btn-lg btn-primary\" href=\"/restaurants/fazolis\">Fazoli's</a>,\n",
       " <a class=\"btn btn-lg btn-primary\" href=\"/restaurants/five-guys-burgers-and-fries\">Five Guys Burgers and Fries</a>,\n",
       " <a class=\"btn btn-lg btn-primary\" href=\"/restaurants/golden-chick\">Golden Chick</a>,\n",
       " <a class=\"btn btn-lg btn-primary\" href=\"/restaurants/hardees\">Hardee's</a>,\n",
       " <a class=\"btn btn-lg btn-primary\" href=\"/restaurants/ihop\">IHOP</a>,\n",
       " <a class=\"btn btn-lg btn-primary\" href=\"/restaurants/in-n-out-burger\">In-N-Out Burger</a>,\n",
       " <a class=\"btn btn-lg btn-primary\" href=\"/restaurants/jack-in-the-box\">Jack in the Box</a>,\n",
       " <a class=\"btn btn-lg btn-primary\" href=\"/restaurants/jimmy-johns\">Jimmy Johns</a>,\n",
       " <a class=\"btn btn-lg btn-primary\" href=\"/restaurants/joes-crab-shack\">Joe's Crab Shack</a>,\n",
       " <a class=\"btn btn-lg btn-primary\" href=\"/restaurants/kfc\">KFC</a>,\n",
       " <a class=\"btn btn-lg btn-primary\" href=\"/restaurants/mcdonalds\">McDonald's</a>,\n",
       " <a class=\"btn btn-lg btn-primary\" href=\"/restaurants/ocharleys\">O'Charley's</a>,\n",
       " <a class=\"btn btn-lg btn-primary\" href=\"/restaurants/olive-garden\">Olive Garden</a>,\n",
       " <a class=\"btn btn-lg btn-primary\" href=\"/restaurants/outback-steakhouse\">Outback Steakhouse</a>,\n",
       " <a class=\"btn btn-lg btn-primary\" href=\"/restaurants/panda-express\">Panda Express</a>,\n",
       " <a class=\"btn btn-lg btn-primary\" href=\"/restaurants/panera-bread\">Panera Bread</a>,\n",
       " <a class=\"btn btn-lg btn-primary\" href=\"/restaurants/popeyes\">Popeye's</a>,\n",
       " <a class=\"btn btn-lg btn-primary\" href=\"/restaurants/quiznos\">Quiznos</a>,\n",
       " <a class=\"btn btn-lg btn-primary\" href=\"/restaurants/red-robin-gourmet-burgers\">Red Robin Gourmet Burgers</a>,\n",
       " <a class=\"btn btn-lg btn-primary\" href=\"/restaurants/romanos-macaroni-grill\">Romano's Macaroni Grill</a>,\n",
       " <a class=\"btn btn-lg btn-primary\" href=\"/restaurants/ruby-tuesday\">Ruby Tuesday</a>,\n",
       " <a class=\"btn btn-lg btn-primary\" href=\"/restaurants/subway\">Subway</a>,\n",
       " <a class=\"btn btn-lg btn-primary\" href=\"/restaurants/taco-bell\">Taco Bell</a>,\n",
       " <a class=\"btn btn-lg btn-primary\" href=\"/restaurants/taco-bueno\">Taco Bueno</a>,\n",
       " <a class=\"btn btn-lg btn-primary\" href=\"/restaurants/wendys\">Wendy's</a>]"
      ]
     },
     "execution_count": 39,
     "metadata": {},
     "output_type": "execute_result"
    }
   ],
   "source": [
    "a = soup.find_all('a', attrs = {'class': 'btn btn-lg btn-primary'})\n",
    "a                                "
   ]
  },
  {
   "cell_type": "code",
   "execution_count": 58,
   "metadata": {},
   "outputs": [
    {
     "name": "stdout",
     "output_type": "stream",
     "text": [
      "\n",
      "\n",
      "Home\n",
      "\n",
      "Categories\n",
      "\n",
      "Restaurants\n",
      "\n",
      "A&W Restaurants\n",
      "\n",
      "Applebee's\n",
      "\n",
      "Arby's\n",
      "\n",
      "Atlanta Bread Company\n",
      "\n",
      "Bojangle's Famous Chicken 'n Biscuits\n",
      "\n",
      "Buffalo Wild Wings\n",
      "\n",
      "Burger King\n",
      "\n",
      "Captain D's\n",
      "\n",
      "Carl's Jr.\n",
      "\n",
      "Charley's Grilled Subs\n",
      "\n",
      "Chick-fil-A\n",
      "\n",
      "Chili's\n",
      "\n",
      "Chipotle Mexican Grill\n",
      "\n",
      "Church's\n",
      "\n",
      "Corner Bakery Cafe\n",
      "\n",
      "Dairy Queen\n",
      "\n",
      "Denny's\n",
      "\n",
      "El Pollo Loco\n",
      "\n",
      "FATZ\n",
      "\n",
      "Fazoli's\n",
      "\n",
      "Five Guys Burgers and Fries\n",
      "\n",
      "Golden Chick\n",
      "\n",
      "Hardee's\n",
      "\n",
      "IHOP\n",
      "\n",
      "In-N-Out Burger\n",
      "\n",
      "Jack in the Box\n",
      "\n",
      "Jimmy Johns\n",
      "\n",
      "Joe's Crab Shack\n",
      "\n",
      "KFC\n",
      "\n",
      "McDonald's\n",
      "\n",
      "O'Charley's\n",
      "\n",
      "Olive Garden\n",
      "\n",
      "Outback Steakhouse\n",
      "\n",
      "Panda Express\n",
      "\n",
      "Panera Bread\n",
      "\n",
      "Popeye's\n",
      "\n",
      "Quiznos\n",
      "\n",
      "Red Robin Gourmet Burgers\n",
      "\n",
      "Romano's Macaroni Grill\n",
      "\n",
      "Ruby Tuesday\n",
      "\n",
      "Subway\n",
      "\n",
      "Taco Bell\n",
      "\n",
      "Taco Bueno\n",
      "\n",
      "Wendy's\n",
      "\n",
      "Trailer Park Media, LLC\n",
      "\n",
      "Home\n",
      "\n",
      "Categories\n",
      "\n",
      "Restaurants\n",
      "\n"
     ]
    }
   ],
   "source": [
    "for i in a:\n",
    "    print(i.text)\n",
    "    print('')"
   ]
  },
  {
   "cell_type": "code",
   "execution_count": 7,
   "metadata": {},
   "outputs": [
    {
     "data": {
      "text/plain": [
       "['',\n",
       " 'Home',\n",
       " 'Categories',\n",
       " 'Restaurants',\n",
       " 'A&W Restaurants',\n",
       " \"Applebee's\",\n",
       " \"Arby's\",\n",
       " 'Atlanta Bread Company',\n",
       " \"Bojangle's Famous Chicken 'n Biscuits\",\n",
       " 'Buffalo Wild Wings',\n",
       " 'Burger King',\n",
       " \"Captain D's\",\n",
       " \"Carl's Jr.\",\n",
       " \"Charley's Grilled Subs\",\n",
       " 'Chick-fil-A',\n",
       " \"Chili's\",\n",
       " 'Chipotle Mexican Grill',\n",
       " \"Church's\",\n",
       " 'Corner Bakery Cafe',\n",
       " 'Dairy Queen',\n",
       " \"Denny's\",\n",
       " 'El Pollo Loco',\n",
       " 'FATZ',\n",
       " \"Fazoli's\",\n",
       " 'Five Guys Burgers and Fries',\n",
       " 'Golden Chick',\n",
       " \"Hardee's\",\n",
       " 'IHOP',\n",
       " 'In-N-Out Burger',\n",
       " 'Jack in the Box',\n",
       " 'Jimmy Johns',\n",
       " \"Joe's Crab Shack\",\n",
       " 'KFC',\n",
       " \"McDonald's\",\n",
       " \"O'Charley's\",\n",
       " 'Olive Garden',\n",
       " 'Outback Steakhouse',\n",
       " 'Panda Express',\n",
       " 'Panera Bread',\n",
       " \"Popeye's\",\n",
       " 'Quiznos',\n",
       " 'Red Robin Gourmet Burgers',\n",
       " \"Romano's Macaroni Grill\",\n",
       " 'Ruby Tuesday',\n",
       " 'Subway',\n",
       " 'Taco Bell',\n",
       " 'Taco Bueno',\n",
       " \"Wendy's\",\n",
       " 'Trailer Park Media, LLC',\n",
       " 'Home',\n",
       " 'Categories',\n",
       " 'Restaurants']"
      ]
     },
     "execution_count": 7,
     "metadata": {},
     "output_type": "execute_result"
    }
   ],
   "source": [
    "soup.find_all('a', attrs = {'class': btn btn-lg btn-primary\"})\n",
    "[x.text for x in soup.find_all('a')]"
   ]
  },
  {
   "cell_type": "code",
   "execution_count": 10,
   "metadata": {},
   "outputs": [],
   "source": [
    "a = soup.find('a', {'class': 'btn btn-lg btn-primary',\n",
    "                   'href' : })"
   ]
  },
  {
   "cell_type": "code",
   "execution_count": 52,
   "metadata": {},
   "outputs": [
    {
     "data": {
      "text/plain": [
       "[<a href=\"http://chubbygrub.com\"><img alt=\"\" border=\"0\" height=\"50\" src=\"http://chubbygrub.com/wp-content/themes/chubbygrub-2/images/logo_chubbygrub.png\" width=\"210\"/></a>,\n",
       " <a href=\"http://chubbygrub.com/\">Home</a>,\n",
       " <a href=\"http://chubbygrub.com/categories/\">Categories</a>,\n",
       " <a href=\"http://chubbygrub.com/restaurants/\">Restaurants</a>,\n",
       " <a class=\"btn btn-lg btn-primary\" href=\"/restaurants/aw-restaurants\">A&amp;W Restaurants</a>,\n",
       " <a class=\"btn btn-lg btn-primary\" href=\"/restaurants/applebees\">Applebee's</a>,\n",
       " <a class=\"btn btn-lg btn-primary\" href=\"/restaurants/arbys\">Arby's</a>,\n",
       " <a class=\"btn btn-lg btn-primary\" href=\"/restaurants/atlanta-bread-company\">Atlanta Bread Company</a>,\n",
       " <a class=\"btn btn-lg btn-primary\" href=\"/restaurants/bojangles-famous-chicken-n-biscuits\">Bojangle's Famous Chicken 'n Biscuits</a>,\n",
       " <a class=\"btn btn-lg btn-primary\" href=\"/restaurants/buffalo-wild-wings\">Buffalo Wild Wings</a>,\n",
       " <a class=\"btn btn-lg btn-primary\" href=\"/restaurants/burger-king\">Burger King</a>,\n",
       " <a class=\"btn btn-lg btn-primary\" href=\"/restaurants/captain-ds\">Captain D's</a>,\n",
       " <a class=\"btn btn-lg btn-primary\" href=\"/restaurants/carls-jr\">Carl's Jr.</a>,\n",
       " <a class=\"btn btn-lg btn-primary\" href=\"/restaurants/charleys-grilled-subs\">Charley's Grilled Subs</a>,\n",
       " <a class=\"btn btn-lg btn-primary\" href=\"/restaurants/chick-fil-a\">Chick-fil-A</a>,\n",
       " <a class=\"btn btn-lg btn-primary\" href=\"/restaurants/chilis\">Chili's</a>,\n",
       " <a class=\"btn btn-lg btn-primary\" href=\"/restaurants/chipotle-mexican-grill\">Chipotle Mexican Grill</a>,\n",
       " <a class=\"btn btn-lg btn-primary\" href=\"/restaurants/churchs\">Church's</a>,\n",
       " <a class=\"btn btn-lg btn-primary\" href=\"/restaurants/corner-bakery-cafe\">Corner Bakery Cafe</a>,\n",
       " <a class=\"btn btn-lg btn-primary\" href=\"/restaurants/dairy-queen\">Dairy Queen</a>,\n",
       " <a class=\"btn btn-lg btn-primary\" href=\"/restaurants/dennys\">Denny's</a>,\n",
       " <a class=\"btn btn-lg btn-primary\" href=\"/restaurants/el-pollo-loco\">El Pollo Loco</a>,\n",
       " <a class=\"btn btn-lg btn-primary\" href=\"/restaurants/fatz\">FATZ</a>,\n",
       " <a class=\"btn btn-lg btn-primary\" href=\"/restaurants/fazolis\">Fazoli's</a>,\n",
       " <a class=\"btn btn-lg btn-primary\" href=\"/restaurants/five-guys-burgers-and-fries\">Five Guys Burgers and Fries</a>,\n",
       " <a class=\"btn btn-lg btn-primary\" href=\"/restaurants/golden-chick\">Golden Chick</a>,\n",
       " <a class=\"btn btn-lg btn-primary\" href=\"/restaurants/hardees\">Hardee's</a>,\n",
       " <a class=\"btn btn-lg btn-primary\" href=\"/restaurants/ihop\">IHOP</a>,\n",
       " <a class=\"btn btn-lg btn-primary\" href=\"/restaurants/in-n-out-burger\">In-N-Out Burger</a>,\n",
       " <a class=\"btn btn-lg btn-primary\" href=\"/restaurants/jack-in-the-box\">Jack in the Box</a>,\n",
       " <a class=\"btn btn-lg btn-primary\" href=\"/restaurants/jimmy-johns\">Jimmy Johns</a>,\n",
       " <a class=\"btn btn-lg btn-primary\" href=\"/restaurants/joes-crab-shack\">Joe's Crab Shack</a>,\n",
       " <a class=\"btn btn-lg btn-primary\" href=\"/restaurants/kfc\">KFC</a>,\n",
       " <a class=\"btn btn-lg btn-primary\" href=\"/restaurants/mcdonalds\">McDonald's</a>,\n",
       " <a class=\"btn btn-lg btn-primary\" href=\"/restaurants/ocharleys\">O'Charley's</a>,\n",
       " <a class=\"btn btn-lg btn-primary\" href=\"/restaurants/olive-garden\">Olive Garden</a>,\n",
       " <a class=\"btn btn-lg btn-primary\" href=\"/restaurants/outback-steakhouse\">Outback Steakhouse</a>,\n",
       " <a class=\"btn btn-lg btn-primary\" href=\"/restaurants/panda-express\">Panda Express</a>,\n",
       " <a class=\"btn btn-lg btn-primary\" href=\"/restaurants/panera-bread\">Panera Bread</a>,\n",
       " <a class=\"btn btn-lg btn-primary\" href=\"/restaurants/popeyes\">Popeye's</a>,\n",
       " <a class=\"btn btn-lg btn-primary\" href=\"/restaurants/quiznos\">Quiznos</a>,\n",
       " <a class=\"btn btn-lg btn-primary\" href=\"/restaurants/red-robin-gourmet-burgers\">Red Robin Gourmet Burgers</a>,\n",
       " <a class=\"btn btn-lg btn-primary\" href=\"/restaurants/romanos-macaroni-grill\">Romano's Macaroni Grill</a>,\n",
       " <a class=\"btn btn-lg btn-primary\" href=\"/restaurants/ruby-tuesday\">Ruby Tuesday</a>,\n",
       " <a class=\"btn btn-lg btn-primary\" href=\"/restaurants/subway\">Subway</a>,\n",
       " <a class=\"btn btn-lg btn-primary\" href=\"/restaurants/taco-bell\">Taco Bell</a>,\n",
       " <a class=\"btn btn-lg btn-primary\" href=\"/restaurants/taco-bueno\">Taco Bueno</a>,\n",
       " <a class=\"btn btn-lg btn-primary\" href=\"/restaurants/wendys\">Wendy's</a>,\n",
       " <a href=\"http://trailerparkmedia.com\" target=\"_blank\">Trailer Park Media, LLC</a>,\n",
       " <a href=\"http://chubbygrub.com/\">Home</a>,\n",
       " <a href=\"http://chubbygrub.com/categories/\">Categories</a>,\n",
       " <a href=\"http://chubbygrub.com/restaurants/\">Restaurants</a>]"
      ]
     },
     "execution_count": 52,
     "metadata": {},
     "output_type": "execute_result"
    }
   ],
   "source": [
    "a"
   ]
  },
  {
   "cell_type": "markdown",
   "metadata": {},
   "source": [
    "### Step 2: Scrape the home page soup for every restaurant\n",
    "\n",
    "Note: Your best bet is to create a list of dictionaries, one for each restaurant. Each dictionary contains the restaurant's name and slug. The result of your scrape should look something like this:\n",
    "\n",
    "```python\n",
    "restaurants = [\n",
    "    {'name': 'A&W Restaurants', 'slug': 'aw-restaurants'}, \n",
    "    {'name': \"Applebee's\", 'slug': 'applebees'},\n",
    "    ...\n",
    "]\n",
    "```"
   ]
  },
  {
   "cell_type": "code",
   "execution_count": 53,
   "metadata": {},
   "outputs": [
    {
     "name": "stdout",
     "output_type": "stream",
     "text": [
      "<a href=\"http://chubbygrub.com\"><img alt=\"\" border=\"0\" height=\"50\" src=\"http://chubbygrub.com/wp-content/themes/chubbygrub-2/images/logo_chubbygrub.png\" width=\"210\"/></a>\n",
      "\n",
      "<a href=\"http://chubbygrub.com/\">Home</a>\n",
      "\n",
      "<a href=\"http://chubbygrub.com/categories/\">Categories</a>\n",
      "\n",
      "<a href=\"http://chubbygrub.com/restaurants/\">Restaurants</a>\n",
      "\n",
      "<a class=\"btn btn-lg btn-primary\" href=\"/restaurants/aw-restaurants\">A&amp;W Restaurants</a>\n",
      "\n",
      "<a class=\"btn btn-lg btn-primary\" href=\"/restaurants/applebees\">Applebee's</a>\n",
      "\n",
      "<a class=\"btn btn-lg btn-primary\" href=\"/restaurants/arbys\">Arby's</a>\n",
      "\n",
      "<a class=\"btn btn-lg btn-primary\" href=\"/restaurants/atlanta-bread-company\">Atlanta Bread Company</a>\n",
      "\n",
      "<a class=\"btn btn-lg btn-primary\" href=\"/restaurants/bojangles-famous-chicken-n-biscuits\">Bojangle's Famous Chicken 'n Biscuits</a>\n",
      "\n",
      "<a class=\"btn btn-lg btn-primary\" href=\"/restaurants/buffalo-wild-wings\">Buffalo Wild Wings</a>\n",
      "\n",
      "<a class=\"btn btn-lg btn-primary\" href=\"/restaurants/burger-king\">Burger King</a>\n",
      "\n",
      "<a class=\"btn btn-lg btn-primary\" href=\"/restaurants/captain-ds\">Captain D's</a>\n",
      "\n",
      "<a class=\"btn btn-lg btn-primary\" href=\"/restaurants/carls-jr\">Carl's Jr.</a>\n",
      "\n",
      "<a class=\"btn btn-lg btn-primary\" href=\"/restaurants/charleys-grilled-subs\">Charley's Grilled Subs</a>\n",
      "\n",
      "<a class=\"btn btn-lg btn-primary\" href=\"/restaurants/chick-fil-a\">Chick-fil-A</a>\n",
      "\n",
      "<a class=\"btn btn-lg btn-primary\" href=\"/restaurants/chilis\">Chili's</a>\n",
      "\n",
      "<a class=\"btn btn-lg btn-primary\" href=\"/restaurants/chipotle-mexican-grill\">Chipotle Mexican Grill</a>\n",
      "\n",
      "<a class=\"btn btn-lg btn-primary\" href=\"/restaurants/churchs\">Church's</a>\n",
      "\n",
      "<a class=\"btn btn-lg btn-primary\" href=\"/restaurants/corner-bakery-cafe\">Corner Bakery Cafe</a>\n",
      "\n",
      "<a class=\"btn btn-lg btn-primary\" href=\"/restaurants/dairy-queen\">Dairy Queen</a>\n",
      "\n",
      "<a class=\"btn btn-lg btn-primary\" href=\"/restaurants/dennys\">Denny's</a>\n",
      "\n",
      "<a class=\"btn btn-lg btn-primary\" href=\"/restaurants/el-pollo-loco\">El Pollo Loco</a>\n",
      "\n",
      "<a class=\"btn btn-lg btn-primary\" href=\"/restaurants/fatz\">FATZ</a>\n",
      "\n",
      "<a class=\"btn btn-lg btn-primary\" href=\"/restaurants/fazolis\">Fazoli's</a>\n",
      "\n",
      "<a class=\"btn btn-lg btn-primary\" href=\"/restaurants/five-guys-burgers-and-fries\">Five Guys Burgers and Fries</a>\n",
      "\n",
      "<a class=\"btn btn-lg btn-primary\" href=\"/restaurants/golden-chick\">Golden Chick</a>\n",
      "\n",
      "<a class=\"btn btn-lg btn-primary\" href=\"/restaurants/hardees\">Hardee's</a>\n",
      "\n",
      "<a class=\"btn btn-lg btn-primary\" href=\"/restaurants/ihop\">IHOP</a>\n",
      "\n",
      "<a class=\"btn btn-lg btn-primary\" href=\"/restaurants/in-n-out-burger\">In-N-Out Burger</a>\n",
      "\n",
      "<a class=\"btn btn-lg btn-primary\" href=\"/restaurants/jack-in-the-box\">Jack in the Box</a>\n",
      "\n",
      "<a class=\"btn btn-lg btn-primary\" href=\"/restaurants/jimmy-johns\">Jimmy Johns</a>\n",
      "\n",
      "<a class=\"btn btn-lg btn-primary\" href=\"/restaurants/joes-crab-shack\">Joe's Crab Shack</a>\n",
      "\n",
      "<a class=\"btn btn-lg btn-primary\" href=\"/restaurants/kfc\">KFC</a>\n",
      "\n",
      "<a class=\"btn btn-lg btn-primary\" href=\"/restaurants/mcdonalds\">McDonald's</a>\n",
      "\n",
      "<a class=\"btn btn-lg btn-primary\" href=\"/restaurants/ocharleys\">O'Charley's</a>\n",
      "\n",
      "<a class=\"btn btn-lg btn-primary\" href=\"/restaurants/olive-garden\">Olive Garden</a>\n",
      "\n",
      "<a class=\"btn btn-lg btn-primary\" href=\"/restaurants/outback-steakhouse\">Outback Steakhouse</a>\n",
      "\n",
      "<a class=\"btn btn-lg btn-primary\" href=\"/restaurants/panda-express\">Panda Express</a>\n",
      "\n",
      "<a class=\"btn btn-lg btn-primary\" href=\"/restaurants/panera-bread\">Panera Bread</a>\n",
      "\n",
      "<a class=\"btn btn-lg btn-primary\" href=\"/restaurants/popeyes\">Popeye's</a>\n",
      "\n",
      "<a class=\"btn btn-lg btn-primary\" href=\"/restaurants/quiznos\">Quiznos</a>\n",
      "\n",
      "<a class=\"btn btn-lg btn-primary\" href=\"/restaurants/red-robin-gourmet-burgers\">Red Robin Gourmet Burgers</a>\n",
      "\n",
      "<a class=\"btn btn-lg btn-primary\" href=\"/restaurants/romanos-macaroni-grill\">Romano's Macaroni Grill</a>\n",
      "\n",
      "<a class=\"btn btn-lg btn-primary\" href=\"/restaurants/ruby-tuesday\">Ruby Tuesday</a>\n",
      "\n",
      "<a class=\"btn btn-lg btn-primary\" href=\"/restaurants/subway\">Subway</a>\n",
      "\n",
      "<a class=\"btn btn-lg btn-primary\" href=\"/restaurants/taco-bell\">Taco Bell</a>\n",
      "\n",
      "<a class=\"btn btn-lg btn-primary\" href=\"/restaurants/taco-bueno\">Taco Bueno</a>\n",
      "\n",
      "<a class=\"btn btn-lg btn-primary\" href=\"/restaurants/wendys\">Wendy's</a>\n",
      "\n",
      "<a href=\"http://trailerparkmedia.com\" target=\"_blank\">Trailer Park Media, LLC</a>\n",
      "\n",
      "<a href=\"http://chubbygrub.com/\">Home</a>\n",
      "\n",
      "<a href=\"http://chubbygrub.com/categories/\">Categories</a>\n",
      "\n",
      "<a href=\"http://chubbygrub.com/restaurants/\">Restaurants</a>\n",
      "\n"
     ]
    }
   ],
   "source": [
    "for i in a:\n",
    "    print(i)\n",
    "    print('')"
   ]
  },
  {
   "cell_type": "code",
   "execution_count": 18,
   "metadata": {},
   "outputs": [
    {
     "ename": "AttributeError",
     "evalue": "ResultSet object has no attribute 'find'. You're probably treating a list of items like a single item. Did you call find_all() when you meant to call find()?",
     "output_type": "error",
     "traceback": [
      "\u001b[0;31m---------------------------------------------------------------------------\u001b[0m",
      "\u001b[0;31mAttributeError\u001b[0m                            Traceback (most recent call last)",
      "\u001b[0;32m<ipython-input-18-27fdc2736889>\u001b[0m in \u001b[0;36m<module>\u001b[0;34m\u001b[0m\n\u001b[1;32m      1\u001b[0m \u001b[0mrestaurants\u001b[0m \u001b[0;34m=\u001b[0m \u001b[0;34m[\u001b[0m\u001b[0;34m]\u001b[0m\u001b[0;34m\u001b[0m\u001b[0;34m\u001b[0m\u001b[0m\n\u001b[1;32m      2\u001b[0m \u001b[0;34m\u001b[0m\u001b[0m\n\u001b[0;32m----> 3\u001b[0;31m \u001b[0;32mfor\u001b[0m \u001b[0ma\u001b[0m \u001b[0;32min\u001b[0m \u001b[0ma\u001b[0m\u001b[0;34m.\u001b[0m\u001b[0mfind\u001b[0m\u001b[0;34m(\u001b[0m\u001b[0;34m'a'\u001b[0m\u001b[0;34m)\u001b[0m\u001b[0;34m:\u001b[0m\u001b[0;34m\u001b[0m\u001b[0;34m\u001b[0m\u001b[0m\n\u001b[0m\u001b[1;32m      4\u001b[0m     \u001b[0mrestaurant\u001b[0m \u001b[0;34m=\u001b[0m \u001b[0;34m{\u001b[0m\u001b[0;34m}\u001b[0m \u001b[0;31m# empty dictionary\u001b[0m\u001b[0;34m\u001b[0m\u001b[0;34m\u001b[0m\u001b[0m\n\u001b[1;32m      5\u001b[0m     \u001b[0mrestauran\u001b[0m\u001b[0;34m[\u001b[0m\u001b[0;34m'name'\u001b[0m\u001b[0;34m]\u001b[0m \u001b[0;34m=\u001b[0m \u001b[0mrow\u001b[0m\u001b[0;34m.\u001b[0m\u001b[0mfind\u001b[0m\u001b[0;34m(\u001b[0m\u001b[0;34m'a'\u001b[0m\u001b[0;34m)\u001b[0m\u001b[0;34m.\u001b[0m\u001b[0mtext\u001b[0m\u001b[0;34m.\u001b[0m\u001b[0mstrip\u001b[0m\u001b[0;34m(\u001b[0m\u001b[0;34m)\u001b[0m \u001b[0;31m# creating a new entry in the dictionary the .strip method gets rid of the line breaks\u001b[0m\u001b[0;34m\u001b[0m\u001b[0;34m\u001b[0m\u001b[0m\n",
      "\u001b[0;32m/anaconda3/lib/python3.6/site-packages/bs4/element.py\u001b[0m in \u001b[0;36m__getattr__\u001b[0;34m(self, key)\u001b[0m\n\u001b[1;32m   1618\u001b[0m     \u001b[0;32mdef\u001b[0m \u001b[0m__getattr__\u001b[0m\u001b[0;34m(\u001b[0m\u001b[0mself\u001b[0m\u001b[0;34m,\u001b[0m \u001b[0mkey\u001b[0m\u001b[0;34m)\u001b[0m\u001b[0;34m:\u001b[0m\u001b[0;34m\u001b[0m\u001b[0;34m\u001b[0m\u001b[0m\n\u001b[1;32m   1619\u001b[0m         raise AttributeError(\n\u001b[0;32m-> 1620\u001b[0;31m             \u001b[0;34m\"ResultSet object has no attribute '%s'. You're probably treating a list of items like a single item. Did you call find_all() when you meant to call find()?\"\u001b[0m \u001b[0;34m%\u001b[0m \u001b[0mkey\u001b[0m\u001b[0;34m\u001b[0m\u001b[0;34m\u001b[0m\u001b[0m\n\u001b[0m\u001b[1;32m   1621\u001b[0m         )\n",
      "\u001b[0;31mAttributeError\u001b[0m: ResultSet object has no attribute 'find'. You're probably treating a list of items like a single item. Did you call find_all() when you meant to call find()?"
     ]
    }
   ],
   "source": [
    "restaurants = []\n",
    "\n",
    "for a in a.find('a'):\n",
    "    restaurant = {} # empty dictionary\n",
    "    restauran['name'] = row.find('a').text.strip() # creating a new entry in the dictionary the .strip method gets rid of the line breaks\n",
    "    restaurants.append(restaurant) # appending that entry to the above list and then looping again\n",
    "restaurants"
   ]
  },
  {
   "cell_type": "code",
   "execution_count": null,
   "metadata": {},
   "outputs": [],
   "source": [
    "teams = []\n",
    "\n",
    "for row in a('tr')[1:]:\n",
    "    team = {} # empty dictionary\n",
    "    team['abrev'] = row.find('a').text.strip() # creating a new entry in the dictionary the .strip method gets rid of the line breaks\n",
    "    team['name'] = row.find('a')['title']\n",
    "    team['rank'] = row.find('span').text.replace('(',\"\").replace(')',\"\").strip()\n",
    "    team['wins'] = row.find('td', {'data-stat':'wins'}).text\n",
    "    team['losses'] = row.find('td', {'data-stat':'losses'}).text\n",
    "#     team['losses'] = row.find_all('td')[-1].text # This is the same as the line above\n",
    "\n",
    "    teams.append(team) # appending that entry to the above list and then looping again\n",
    "df = pd.DataFrame(teams)"
   ]
  },
  {
   "cell_type": "markdown",
   "metadata": {},
   "source": [
    "### Step 3: Using the slug, scrape each restaurant's page and create a single list of food dictionaries.\n",
    "\n",
    "Your list of foods should look something like this:\n",
    "```python\n",
    "foods = [\n",
    "    {\n",
    "        'calories': '0',\n",
    "        'carbs': '0',\n",
    "        'category': 'Drinks',\n",
    "        'fat': '0',\n",
    "        'name': 'A&W® Diet Root Beer',\n",
    "        'restaurant': 'A&W Restaurants'\n",
    "    },\n",
    "    {\n",
    "        'calories': '0',\n",
    "        'carbs': '0',\n",
    "        'category': 'Drinks',\n",
    "        'fat': '0',\n",
    "        'name': 'A&W® Diet Root Beer',\n",
    "        'restaurant': 'A&W Restaurants'\n",
    "    },\n",
    "    ...\n",
    "]\n",
    "```\n",
    "\n",
    "**Note**: Remove extra white space from each category"
   ]
  },
  {
   "cell_type": "code",
   "execution_count": null,
   "metadata": {},
   "outputs": [],
   "source": []
  },
  {
   "cell_type": "markdown",
   "metadata": {},
   "source": [
    "### Step 4: Create a pandas DataFrame from your list of foods\n",
    "\n",
    "**Note**: Your DataFrame should have 4,977 rows"
   ]
  },
  {
   "cell_type": "code",
   "execution_count": null,
   "metadata": {},
   "outputs": [],
   "source": []
  },
  {
   "cell_type": "markdown",
   "metadata": {},
   "source": [
    "### Step 5: Export to csv\n",
    "\n",
    "**Note:** Don't export the index column from your DataFrame"
   ]
  },
  {
   "cell_type": "code",
   "execution_count": null,
   "metadata": {},
   "outputs": [],
   "source": []
  }
 ],
 "metadata": {
  "kernelspec": {
   "display_name": "Python 3",
   "language": "python",
   "name": "python3"
  },
  "language_info": {
   "codemirror_mode": {
    "name": "ipython",
    "version": 3
   },
   "file_extension": ".py",
   "mimetype": "text/x-python",
   "name": "python",
   "nbconvert_exporter": "python",
   "pygments_lexer": "ipython3",
   "version": "3.6.8"
  }
 },
 "nbformat": 4,
 "nbformat_minor": 2
}
